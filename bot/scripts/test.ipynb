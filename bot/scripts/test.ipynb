{
 "cells": [
  {
   "cell_type": "code",
   "execution_count": 3,
   "metadata": {},
   "outputs": [
    {
     "name": "stdout",
     "output_type": "stream",
     "text": [
      "Это пример текста с ссылкой:  и еще одной ссылкой:  Еще текст без ссылок.\n"
     ]
    }
   ],
   "source": [
    "import re\n",
    "\n",
    "def remove_urls(text):\n",
    "    # Регулярное выражение для нахождения большинства URL\n",
    "    pattern = r'https?://\\S+|www\\.\\S+'\n",
    "    # Заменяем найденные URL на пустую строку\n",
    "    return re.sub(pattern, '', text)\n",
    "\n",
    "# Пример текста с URL\n",
    "text = \"Это пример текста с ссылкой: https://example.com/ и еще одной ссылкой: www.example.org. Еще текст без ссылок.\"\n",
    "\n",
    "# Удаление URL из текста\n",
    "clean_text = remove_urls(text)\n",
    "print(clean_text)\n"
   ]
  },
  {
   "cell_type": "code",
   "execution_count": null,
   "metadata": {},
   "outputs": [],
   "source": [
    "find_top_ten_books('достоевский')"
   ]
  }
 ],
 "metadata": {
  "kernelspec": {
   "display_name": "base",
   "language": "python",
   "name": "python3"
  },
  "language_info": {
   "codemirror_mode": {
    "name": "ipython",
    "version": 3
   },
   "file_extension": ".py",
   "mimetype": "text/x-python",
   "name": "python",
   "nbconvert_exporter": "python",
   "pygments_lexer": "ipython3",
   "version": "3.9.12"
  }
 },
 "nbformat": 4,
 "nbformat_minor": 2
}

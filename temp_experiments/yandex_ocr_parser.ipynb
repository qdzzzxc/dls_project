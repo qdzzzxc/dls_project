{
 "cells": [
  {
   "cell_type": "code",
   "execution_count": 22,
   "metadata": {},
   "outputs": [],
   "source": [
    "import os\n",
    "import time\n",
    "\n",
    "from pynput.keyboard import Controller, Key\n",
    "from selenium import webdriver\n",
    "from selenium.webdriver.common.by import By\n",
    "from selenium.webdriver.support import expected_conditions as EC\n",
    "from selenium.webdriver.support.wait import WebDriverWait"
   ]
  },
  {
   "cell_type": "code",
   "execution_count": 50,
   "metadata": {},
   "outputs": [],
   "source": [
    "def get_yandex_ocr(file_name):\n",
    "    link = 'https://translate.yandex.ru/ocr'\n",
    "\n",
    "    #cant run headless cuz of input\n",
    "    driver = webdriver.Chrome()\n",
    "\n",
    "    driver.get(link)\n",
    "\n",
    "    original_window = driver.current_window_handle\n",
    "\n",
    "    driver.find_element(\n",
    "        By.XPATH, \"//a[@data-action='pickFile']\").click()\n",
    "\n",
    "    time.sleep(1)\n",
    "\n",
    "    keyboard = Controller()\n",
    "\n",
    "    keyboard.type(os.path.abspath(file_name))\n",
    "\n",
    "    time.sleep(2)\n",
    "\n",
    "    keyboard.press(Key.enter)\n",
    "    keyboard.release(Key.enter)\n",
    "\n",
    "    WebDriverWait(driver, 3).until(EC.element_to_be_clickable((\n",
    "        By.XPATH, \"//button[@class='button button_view_ghost state-show-wide']\"))).click()\n",
    "\n",
    "    wait = WebDriverWait(driver, timeout=5)\n",
    "\n",
    "    wait.until(EC.number_of_windows_to_be(2))\n",
    "\n",
    "    for window_handle in driver.window_handles:\n",
    "        if window_handle != original_window:\n",
    "            driver.switch_to.window(window_handle)\n",
    "            break\n",
    "\n",
    "    result = driver.find_element(\n",
    "        By.XPATH, \"//div[@id='fakeArea']\").text\n",
    "\n",
    "    driver.quit()\n",
    "\n",
    "    return result"
   ]
  },
  {
   "cell_type": "code",
   "execution_count": 51,
   "metadata": {},
   "outputs": [
    {
     "data": {
      "text/plain": [
       "'с.михалков\\nЧТ0 У ВАС\\nстихи\\nи сназни'"
      ]
     },
     "execution_count": 51,
     "metadata": {},
     "output_type": "execute_result"
    }
   ],
   "source": [
    "file_name = \"test.png\"\n",
    "get_yandex_ocr(file_name)\n"
   ]
  },
  {
   "cell_type": "code",
   "execution_count": 45,
   "metadata": {},
   "outputs": [
    {
     "data": {
      "text/plain": [
       "'библиотеka советских приключений никита филатов іражоанинперуик'"
      ]
     },
     "execution_count": 45,
     "metadata": {},
     "output_type": "execute_result"
    }
   ],
   "source": [
    "\"Библиотеka СОВЕТСКИХ приключений никита филатов Іражоанинперуик\".strip().lower()"
   ]
  },
  {
   "cell_type": "code",
   "execution_count": 39,
   "metadata": {},
   "outputs": [
    {
     "data": {
      "text/plain": [
       "'с.михалков\\nЧТ0 У ВАС\\nстихи\\nи санани'"
      ]
     },
     "execution_count": 39,
     "metadata": {},
     "output_type": "execute_result"
    }
   ],
   "source": [
    "result.text"
   ]
  },
  {
   "cell_type": "code",
   "execution_count": 41,
   "metadata": {},
   "outputs": [],
   "source": [
    "driver.close()"
   ]
  },
  {
   "cell_type": "code",
   "execution_count": 16,
   "metadata": {},
   "outputs": [
    {
     "data": {
      "text/plain": [
       "'z:\\\\python_project\\\\dls_gazprom\\\\test.png'"
      ]
     },
     "execution_count": 16,
     "metadata": {},
     "output_type": "execute_result"
    }
   ],
   "source": [
    "os.path.abspath(file_name)"
   ]
  },
  {
   "cell_type": "code",
   "execution_count": null,
   "metadata": {},
   "outputs": [],
   "source": []
  }
 ],
 "metadata": {
  "kernelspec": {
   "display_name": "base",
   "language": "python",
   "name": "python3"
  },
  "language_info": {
   "codemirror_mode": {
    "name": "ipython",
    "version": 3
   },
   "file_extension": ".py",
   "mimetype": "text/x-python",
   "name": "python",
   "nbconvert_exporter": "python",
   "pygments_lexer": "ipython3",
   "version": "3.9.12"
  }
 },
 "nbformat": 4,
 "nbformat_minor": 2
}

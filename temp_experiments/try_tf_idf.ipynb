{
 "cells": [
  {
   "cell_type": "code",
   "execution_count": 4,
   "metadata": {},
   "outputs": [
    {
     "name": "stdout",
     "output_type": "stream",
     "text": [
      "Vectorizer created\n"
     ]
    }
   ],
   "source": [
    "import os\n",
    "\n",
    "import numpy as np\n",
    "import pandas as pd\n",
    "from sklearn.feature_extraction.text import TfidfVectorizer\n",
    "from sklearn.metrics.pairwise import cosine_similarity\n",
    "import joblib\n",
    "\n",
    "\n",
    "if os.path.exists(os.path.join(\".\", \"all_rows.pqt\")):\n",
    "    all_rows = pd.read_parquet(\"all_rows.pqt\")\n",
    "else:\n",
    "    all_rows = pd.DataFrame(\n",
    "        columns=[\"id\", \"link\", \"name\", \"rate\", \"description\", \"reviews\"]\n",
    "    )\n",
    "\n",
    "    for name in os.listdir():\n",
    "        if name.endswith(\".csv\") and name.startswith(\"rows\"):\n",
    "            temp_df = pd.read_csv(name)\n",
    "            all_rows = pd.concat([all_rows, temp_df])\n",
    "\n",
    "    all_rows.to_parquet(\"all_rows.pqt\", index=False)\n",
    "\n",
    "if os.path.exists(os.path.join(\".\", \"vectorizer.pkl\")) and os.path.exists(os.path.join('.', 'tfidf_vectors.npy')):\n",
    "    print('Vectorizer loaded')\n",
    "    vectorizer = joblib.load('vectorizer.pkl')\n",
    "\n",
    "    tfidf_vectors = np.load(\"tfidf_vectors.npy\", allow_pickle=True).item()\n",
    "else:\n",
    "    print('Vectorizer created')\n",
    "    vectorizer = TfidfVectorizer()\n",
    "\n",
    "    tfidf_vectors = vectorizer.fit_transform(all_rows.name)\n",
    "\n",
    "    joblib.dump(vectorizer, 'vectorizer.pkl')\n",
    "    np.save('tfidf_vectors', tfidf_vectors)\n",
    "\n",
    "\n",
    "def cosine_search(new_sentence):\n",
    "    new_tfidf_vector = vectorizer.transform([new_sentence])\n",
    "\n",
    "    new_tfidf_vector_array = new_tfidf_vector.toarray()\n",
    "\n",
    "    euclidean_dist = cosine_similarity(\n",
    "        new_tfidf_vector_array.reshape(1, -1), tfidf_vectors\n",
    "    )\n",
    "\n",
    "    return all_rows.iloc[np.argmax(euclidean_dist)]"
   ]
  },
  {
   "cell_type": "code",
   "execution_count": 5,
   "metadata": {},
   "outputs": [
    {
     "data": {
      "text/plain": [
       "id                                                        438397\n",
       "link                       https://www.labirint.ru/books/438397/\n",
       "name                                  Артур Дойл: Затерянный мир\n",
       "rate                                                        9.19\n",
       "description    Большинство читателей знают сэра Артура Конан ...\n",
       "reviews        Хорошая научная фантастика.\\r\\nХороший перевод...\n",
       "Name: 665, dtype: object"
      ]
     },
     "execution_count": 5,
     "metadata": {},
     "output_type": "execute_result"
    }
   ],
   "source": [
    "cosine_search(\"артур конан дойл\")"
   ]
  },
  {
   "cell_type": "code",
   "execution_count": null,
   "metadata": {},
   "outputs": [],
   "source": []
  },
  {
   "cell_type": "code",
   "execution_count": 6,
   "metadata": {},
   "outputs": [],
   "source": [
    "import pandas as pd\n",
    "\n",
    "import os"
   ]
  },
  {
   "cell_type": "code",
   "execution_count": 7,
   "metadata": {},
   "outputs": [
    {
     "data": {
      "text/html": [
       "<div>\n",
       "<style scoped>\n",
       "    .dataframe tbody tr th:only-of-type {\n",
       "        vertical-align: middle;\n",
       "    }\n",
       "\n",
       "    .dataframe tbody tr th {\n",
       "        vertical-align: top;\n",
       "    }\n",
       "\n",
       "    .dataframe thead th {\n",
       "        text-align: right;\n",
       "    }\n",
       "</style>\n",
       "<table border=\"1\" class=\"dataframe\">\n",
       "  <thead>\n",
       "    <tr style=\"text-align: right;\">\n",
       "      <th></th>\n",
       "      <th>id</th>\n",
       "      <th>link</th>\n",
       "      <th>name</th>\n",
       "      <th>rate</th>\n",
       "      <th>description</th>\n",
       "      <th>reviews</th>\n",
       "    </tr>\n",
       "  </thead>\n",
       "  <tbody>\n",
       "  </tbody>\n",
       "</table>\n",
       "</div>"
      ],
      "text/plain": [
       "Empty DataFrame\n",
       "Columns: [id, link, name, rate, description, reviews]\n",
       "Index: []"
      ]
     },
     "execution_count": 7,
     "metadata": {},
     "output_type": "execute_result"
    }
   ],
   "source": [
    "all_rows = pd.DataFrame(columns = ['id', 'link', 'name', 'rate', 'description', 'reviews'])\n",
    "all_rows"
   ]
  },
  {
   "cell_type": "code",
   "execution_count": 8,
   "metadata": {},
   "outputs": [],
   "source": [
    "for name in os.listdir():\n",
    "    if name.endswith('.csv') and name.startswith('rows'):\n",
    "        temp_df = pd.read_csv(name)\n",
    "        all_rows = pd.concat([all_rows, temp_df])"
   ]
  },
  {
   "cell_type": "code",
   "execution_count": 9,
   "metadata": {},
   "outputs": [
    {
     "data": {
      "text/plain": [
       "(8685, 6)"
      ]
     },
     "execution_count": 9,
     "metadata": {},
     "output_type": "execute_result"
    }
   ],
   "source": [
    "all_rows.shape"
   ]
  },
  {
   "cell_type": "code",
   "execution_count": 10,
   "metadata": {},
   "outputs": [],
   "source": [
    "all_rows.to_parquet('all_rows.pqt', index=False)"
   ]
  },
  {
   "cell_type": "code",
   "execution_count": 11,
   "metadata": {},
   "outputs": [
    {
     "data": {
      "text/plain": [
       "True"
      ]
     },
     "execution_count": 11,
     "metadata": {},
     "output_type": "execute_result"
    }
   ],
   "source": [
    "os.path.exists(os.path.join('.', 'tfidf_vectors.npy'))"
   ]
  },
  {
   "cell_type": "code",
   "execution_count": 15,
   "metadata": {},
   "outputs": [],
   "source": [
    "from sklearn.feature_extraction.text import TfidfVectorizer\n",
    "\n",
    "\n",
    "vectorizer = TfidfVectorizer()\n",
    "\n",
    "tfidf_vectors = vectorizer.fit_transform(all_rows.name)"
   ]
  },
  {
   "cell_type": "code",
   "execution_count": 17,
   "metadata": {},
   "outputs": [
    {
     "data": {
      "text/plain": [
       "(8685, 20283)"
      ]
     },
     "execution_count": 17,
     "metadata": {},
     "output_type": "execute_result"
    }
   ],
   "source": [
    "tfidf_vectors.shape"
   ]
  },
  {
   "cell_type": "code",
   "execution_count": 18,
   "metadata": {},
   "outputs": [],
   "source": [
    "from sklearn.metrics.pairwise import euclidean_distances, cosine_similarity\n",
    "\n",
    "import numpy as np"
   ]
  },
  {
   "cell_type": "code",
   "execution_count": 22,
   "metadata": {},
   "outputs": [
    {
     "data": {
      "text/plain": [
       "id                                                       1010629\n",
       "link                      https://www.labirint.ru/books/1010629/\n",
       "name              Анатолий Ильяхов: Сенека. Наставник императора\n",
       "rate                                                         0.0\n",
       "description    Когда-то в молодости известный римский философ...\n",
       "reviews                                                      NaN\n",
       "Name: 21, dtype: object"
      ]
     },
     "execution_count": 22,
     "metadata": {},
     "output_type": "execute_result"
    }
   ],
   "source": [
    "# Новое предложение\n",
    "new_sentence = '''Сенека\n",
    "Наставник императора'''\n",
    "\n",
    "new_tfidf_vector = vectorizer.transform([new_sentence])\n",
    "\n",
    "new_tfidf_vector_array = new_tfidf_vector.toarray()\n",
    "\n",
    "euclidean_dist = cosine_similarity(new_tfidf_vector_array.reshape(1, -1), tfidf_vectors)\n",
    "\n",
    "all_rows.iloc[np.argmax(euclidean_dist)]"
   ]
  },
  {
   "cell_type": "code",
   "execution_count": 88,
   "metadata": {},
   "outputs": [
    {
     "data": {
      "text/plain": [
       "(7229, 17140)"
      ]
     },
     "execution_count": 88,
     "metadata": {},
     "output_type": "execute_result"
    }
   ],
   "source": [
    "tfidf_vectors.shape"
   ]
  },
  {
   "cell_type": "code",
   "execution_count": 90,
   "metadata": {},
   "outputs": [],
   "source": [
    "euclidean_dist = euclidean_distances(new_tfidf_vector_array.reshape(1, -1), tfidf_vectors)"
   ]
  },
  {
   "cell_type": "code",
   "execution_count": 91,
   "metadata": {},
   "outputs": [
    {
     "data": {
      "text/plain": [
       "3491"
      ]
     },
     "execution_count": 91,
     "metadata": {},
     "output_type": "execute_result"
    }
   ],
   "source": [
    "import numpy as np\n",
    "\n",
    "np.argmin(euclidean_dist)"
   ]
  },
  {
   "cell_type": "code",
   "execution_count": 93,
   "metadata": {},
   "outputs": [
    {
     "data": {
      "text/plain": [
       "id                                                        493711\n",
       "link                       https://www.labirint.ru/books/493711/\n",
       "name                                      Олег Михайлов: Кутузов\n",
       "rate                                                         0.0\n",
       "description    Исторический роман посвящен Михаилу Илларионов...\n",
       "reviews                                                      NaN\n",
       "Name: 908, dtype: object"
      ]
     },
     "execution_count": 93,
     "metadata": {},
     "output_type": "execute_result"
    }
   ],
   "source": [
    "all_rows.iloc[3491]"
   ]
  },
  {
   "cell_type": "code",
   "execution_count": 72,
   "metadata": {},
   "outputs": [],
   "source": [
    "import requests\n",
    "\n",
    "\n",
    "def ocr_space_file(filename, overlay=False, api_key='helloworld', language='eng'):\n",
    "    \"\"\" OCR.space API request with local file.\n",
    "        Python3.5 - not tested on 2.7\n",
    "    :param filename: Your file path & name.\n",
    "    :param overlay: Is OCR.space overlay required in your response.\n",
    "                    Defaults to False.\n",
    "    :param api_key: OCR.space API key.\n",
    "                    Defaults to 'helloworld'.\n",
    "    :param language: Language code to be used in OCR.\n",
    "                    List of available language codes can be found on https://ocr.space/OCRAPI\n",
    "                    Defaults to 'en'.\n",
    "    :return: Result in JSON format.\n",
    "    \"\"\"\n",
    "\n",
    "    payload = {'isOverlayRequired': overlay,\n",
    "               'apikey': api_key,\n",
    "               'language': language,\n",
    "               }\n",
    "    with open(filename, 'rb') as f:\n",
    "        r = requests.post('https://api.ocr.space/parse/image',\n",
    "                          files={filename: f},\n",
    "                          data=payload,\n",
    "                          )\n",
    "    return r.json()"
   ]
  },
  {
   "cell_type": "code",
   "execution_count": 73,
   "metadata": {},
   "outputs": [],
   "source": [
    "res = ocr_space_file('test.png', api_key='K81646083088957', language='rus')"
   ]
  },
  {
   "cell_type": "code",
   "execution_count": 80,
   "metadata": {},
   "outputs": [
    {
     "data": {
      "text/plain": [
       "'с.михплков\\r\\nи ск.зни'"
      ]
     },
     "execution_count": 80,
     "metadata": {},
     "output_type": "execute_result"
    }
   ],
   "source": [
    "res[\"ParsedResults\"][0][\"ParsedText\"].strip()"
   ]
  },
  {
   "cell_type": "code",
   "execution_count": 70,
   "metadata": {},
   "outputs": [
    {
     "ename": "NameError",
     "evalue": "name 'false' is not defined",
     "output_type": "error",
     "traceback": [
      "\u001b[1;31m---------------------------------------------------------------------------\u001b[0m",
      "\u001b[1;31mNameError\u001b[0m                                 Traceback (most recent call last)",
      "Cell \u001b[1;32mIn[70], line 1\u001b[0m\n\u001b[1;32m----> 1\u001b[0m \u001b[38;5;28;43meval\u001b[39;49m\u001b[43m(\u001b[49m\u001b[43mres\u001b[49m\u001b[43m)\u001b[49m\n",
      "File \u001b[1;32m<string>:1\u001b[0m\n",
      "\u001b[1;31mNameError\u001b[0m: name 'false' is not defined"
     ]
    }
   ],
   "source": [
    "eval(res)"
   ]
  },
  {
   "cell_type": "code",
   "execution_count": null,
   "metadata": {},
   "outputs": [],
   "source": [
    "[\"ParsedText']"
   ]
  }
 ],
 "metadata": {
  "kernelspec": {
   "display_name": "base",
   "language": "python",
   "name": "python3"
  },
  "language_info": {
   "codemirror_mode": {
    "name": "ipython",
    "version": 3
   },
   "file_extension": ".py",
   "mimetype": "text/x-python",
   "name": "python",
   "nbconvert_exporter": "python",
   "pygments_lexer": "ipython3",
   "version": "3.9.12"
  }
 },
 "nbformat": 4,
 "nbformat_minor": 2
}

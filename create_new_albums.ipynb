{
 "cells": [
  {
   "cell_type": "code",
   "execution_count": 45,
   "metadata": {},
   "outputs": [],
   "source": [
    "from PIL import Image\n",
    "from PIL import ImageFont\n",
    "from PIL import ImageDraw \n",
    "\n",
    "import pandas as pd\n",
    "\n",
    "import os\n",
    "\n",
    "import copy"
   ]
  },
  {
   "cell_type": "code",
   "execution_count": 157,
   "metadata": {},
   "outputs": [],
   "source": [
    "base_cover = Image.new('L', (224, int(224*1.6)), color=(128))"
   ]
  },
  {
   "cell_type": "code",
   "execution_count": 169,
   "metadata": {},
   "outputs": [],
   "source": [
    "data = pd.read_csv('rows0-1000.csv')"
   ]
  },
  {
   "cell_type": "code",
   "execution_count": 173,
   "metadata": {},
   "outputs": [],
   "source": [
    "author_text, name_text = data.name[949].split(':')"
   ]
  },
  {
   "cell_type": "code",
   "execution_count": 172,
   "metadata": {},
   "outputs": [
    {
     "data": {
      "text/html": [
       "<div>\n",
       "<style scoped>\n",
       "    .dataframe tbody tr th:only-of-type {\n",
       "        vertical-align: middle;\n",
       "    }\n",
       "\n",
       "    .dataframe tbody tr th {\n",
       "        vertical-align: top;\n",
       "    }\n",
       "\n",
       "    .dataframe thead th {\n",
       "        text-align: right;\n",
       "    }\n",
       "</style>\n",
       "<table border=\"1\" class=\"dataframe\">\n",
       "  <thead>\n",
       "    <tr style=\"text-align: right;\">\n",
       "      <th></th>\n",
       "      <th>id</th>\n",
       "      <th>link</th>\n",
       "      <th>name</th>\n",
       "      <th>rate</th>\n",
       "      <th>description</th>\n",
       "      <th>reviews</th>\n",
       "    </tr>\n",
       "  </thead>\n",
       "  <tbody>\n",
       "    <tr>\n",
       "      <th>0</th>\n",
       "      <td>451006</td>\n",
       "      <td>https://www.labirint.ru/books/451006/</td>\n",
       "      <td>Роберт Стивенсон: Остров Сокровищ</td>\n",
       "      <td>9.38</td>\n",
       "      <td>Знаменитый роман Роберта Льюиса Стивенсона в ...</td>\n",
       "      <td>Есть у меня одна страсть. По нынешним временам...</td>\n",
       "    </tr>\n",
       "    <tr>\n",
       "      <th>1</th>\n",
       "      <td>786953</td>\n",
       "      <td>https://www.labirint.ru/books/786953/</td>\n",
       "      <td>Жюль Верн: Вокруг света в восемьдесят дней</td>\n",
       "      <td>8.26</td>\n",
       "      <td>\"Вокруг книги\" - это лучшие произведения миров...</td>\n",
       "      <td>Позволю себе не разделить восторга предыдущих ...</td>\n",
       "    </tr>\n",
       "    <tr>\n",
       "      <th>2</th>\n",
       "      <td>840898</td>\n",
       "      <td>https://www.labirint.ru/books/840898/</td>\n",
       "      <td>Тур Хейердал: Экспедиция \"Кон-Тики\"</td>\n",
       "      <td>8.33</td>\n",
       "      <td>Отважный человек, нестандартно мыслящий, самоо...</td>\n",
       "      <td>Наверное, впервые вижу книгу, про которую хоче...</td>\n",
       "    </tr>\n",
       "    <tr>\n",
       "      <th>3</th>\n",
       "      <td>614463</td>\n",
       "      <td>https://www.labirint.ru/books/614463/</td>\n",
       "      <td>Артур Дойл: Приключения Шерлока Холмса</td>\n",
       "      <td>9.06</td>\n",
       "      <td>Интерактивное комментированное издание рассказ...</td>\n",
       "      <td>Фотографии сделаны на выставке. Фотографировал...</td>\n",
       "    </tr>\n",
       "    <tr>\n",
       "      <th>4</th>\n",
       "      <td>869738</td>\n",
       "      <td>https://www.labirint.ru/books/869738/</td>\n",
       "      <td>Артур Дойл: Записки о Шерлоке Холмсе</td>\n",
       "      <td>9.07</td>\n",
       "      <td>В книгу вошли пять рассказов Артура Конан Дойл...</td>\n",
       "      <td>Вторая книга, наконец-то! Уже и не чаяли, как ...</td>\n",
       "    </tr>\n",
       "    <tr>\n",
       "      <th>...</th>\n",
       "      <td>...</td>\n",
       "      <td>...</td>\n",
       "      <td>...</td>\n",
       "      <td>...</td>\n",
       "      <td>...</td>\n",
       "      <td>...</td>\n",
       "    </tr>\n",
       "    <tr>\n",
       "      <th>947</th>\n",
       "      <td>891292</td>\n",
       "      <td>https://www.labirint.ru/books/891292/</td>\n",
       "      <td>James Crumley: The Wrong Case</td>\n",
       "      <td>0.00</td>\n",
       "      <td>Milo Milodragovitch is a once-successful divor...</td>\n",
       "      <td>NaN</td>\n",
       "    </tr>\n",
       "    <tr>\n",
       "      <th>948</th>\n",
       "      <td>891584</td>\n",
       "      <td>https://www.labirint.ru/books/891584/</td>\n",
       "      <td>Salvatore Scibona: The Volunteer</td>\n",
       "      <td>0.00</td>\n",
       "      <td>An odyssey of loss and salvation ranging acros...</td>\n",
       "      <td>NaN</td>\n",
       "    </tr>\n",
       "    <tr>\n",
       "      <th>949</th>\n",
       "      <td>891889</td>\n",
       "      <td>https://www.labirint.ru/books/891889/</td>\n",
       "      <td>Brian Moore: Lies Of Silence</td>\n",
       "      <td>0.00</td>\n",
       "      <td>When Michael Dillon is ordered by the IRA to p...</td>\n",
       "      <td>NaN</td>\n",
       "    </tr>\n",
       "    <tr>\n",
       "      <th>950</th>\n",
       "      <td>885411</td>\n",
       "      <td>https://www.labirint.ru/books/885411/</td>\n",
       "      <td>Don Winslow: The Gentlemen's Hour</td>\n",
       "      <td>0.00</td>\n",
       "      <td>Boone Daniels, a laid-back private investigato...</td>\n",
       "      <td>NaN</td>\n",
       "    </tr>\n",
       "    <tr>\n",
       "      <th>951</th>\n",
       "      <td>872576</td>\n",
       "      <td>https://www.labirint.ru/books/872576/</td>\n",
       "      <td>Артур Дойл: Затерянный мир</td>\n",
       "      <td>9.09</td>\n",
       "      <td>Чтобы снискать благосклонность красавицы Глэди...</td>\n",
       "      <td>Любимая книга моей юности - и в таком великоле...</td>\n",
       "    </tr>\n",
       "  </tbody>\n",
       "</table>\n",
       "<p>952 rows × 6 columns</p>\n",
       "</div>"
      ],
      "text/plain": [
       "         id                                   link  \\\n",
       "0    451006  https://www.labirint.ru/books/451006/   \n",
       "1    786953  https://www.labirint.ru/books/786953/   \n",
       "2    840898  https://www.labirint.ru/books/840898/   \n",
       "3    614463  https://www.labirint.ru/books/614463/   \n",
       "4    869738  https://www.labirint.ru/books/869738/   \n",
       "..      ...                                    ...   \n",
       "947  891292  https://www.labirint.ru/books/891292/   \n",
       "948  891584  https://www.labirint.ru/books/891584/   \n",
       "949  891889  https://www.labirint.ru/books/891889/   \n",
       "950  885411  https://www.labirint.ru/books/885411/   \n",
       "951  872576  https://www.labirint.ru/books/872576/   \n",
       "\n",
       "                                           name  rate  \\\n",
       "0             Роберт Стивенсон: Остров Сокровищ  9.38   \n",
       "1    Жюль Верн: Вокруг света в восемьдесят дней  8.26   \n",
       "2           Тур Хейердал: Экспедиция \"Кон-Тики\"  8.33   \n",
       "3        Артур Дойл: Приключения Шерлока Холмса  9.06   \n",
       "4          Артур Дойл: Записки о Шерлоке Холмсе  9.07   \n",
       "..                                          ...   ...   \n",
       "947               James Crumley: The Wrong Case  0.00   \n",
       "948            Salvatore Scibona: The Volunteer  0.00   \n",
       "949                Brian Moore: Lies Of Silence  0.00   \n",
       "950           Don Winslow: The Gentlemen's Hour  0.00   \n",
       "951                  Артур Дойл: Затерянный мир  9.09   \n",
       "\n",
       "                                           description  \\\n",
       "0     Знаменитый роман Роберта Льюиса Стивенсона в ...   \n",
       "1    \"Вокруг книги\" - это лучшие произведения миров...   \n",
       "2    Отважный человек, нестандартно мыслящий, самоо...   \n",
       "3    Интерактивное комментированное издание рассказ...   \n",
       "4    В книгу вошли пять рассказов Артура Конан Дойл...   \n",
       "..                                                 ...   \n",
       "947  Milo Milodragovitch is a once-successful divor...   \n",
       "948  An odyssey of loss and salvation ranging acros...   \n",
       "949  When Michael Dillon is ordered by the IRA to p...   \n",
       "950  Boone Daniels, a laid-back private investigato...   \n",
       "951  Чтобы снискать благосклонность красавицы Глэди...   \n",
       "\n",
       "                                               reviews  \n",
       "0    Есть у меня одна страсть. По нынешним временам...  \n",
       "1    Позволю себе не разделить восторга предыдущих ...  \n",
       "2    Наверное, впервые вижу книгу, про которую хоче...  \n",
       "3    Фотографии сделаны на выставке. Фотографировал...  \n",
       "4    Вторая книга, наконец-то! Уже и не чаяли, как ...  \n",
       "..                                                 ...  \n",
       "947                                                NaN  \n",
       "948                                                NaN  \n",
       "949                                                NaN  \n",
       "950                                                NaN  \n",
       "951  Любимая книга моей юности - и в таком великоле...  \n",
       "\n",
       "[952 rows x 6 columns]"
      ]
     },
     "execution_count": 172,
     "metadata": {},
     "output_type": "execute_result"
    }
   ],
   "source": [
    "data"
   ]
  },
  {
   "cell_type": "code",
   "execution_count": 178,
   "metadata": {},
   "outputs": [],
   "source": [
    "from transformers import AutoImageProcessor, AutoModel\n",
    "from PIL import Image\n",
    "\n",
    "device = 'cuda'\n",
    "\n",
    "processor = AutoImageProcessor.from_pretrained('facebook/dinov2-giant')\n",
    "model = AutoModel.from_pretrained('facebook/dinov2-giant').to(device)\n",
    "\n",
    "def embed_picture(image):\n",
    "    inputs = processor(images=image, return_tensors=\"pt\").to(device)\n",
    "    outputs = model(**inputs)\n",
    "    embedding = outputs.last_hidden_state.detach().cpu().numpy()[0].flatten()\n",
    "    return embedding"
   ]
  },
  {
   "cell_type": "code",
   "execution_count": 179,
   "metadata": {},
   "outputs": [
    {
     "data": {
      "text/plain": [
       "array([ 3.3943758 ,  0.6206146 ,  1.252059  , ...,  0.07052863,\n",
       "        1.14376   , -0.36159754], dtype=float32)"
      ]
     },
     "metadata": {},
     "output_type": "display_data"
    },
    {
     "data": {
      "text/plain": [
       "array([ 2.7009964 ,  0.06892364,  1.0995466 , ...,  0.09858808,\n",
       "        1.2046993 , -0.9241832 ], dtype=float32)"
      ]
     },
     "metadata": {},
     "output_type": "display_data"
    },
    {
     "data": {
      "text/plain": [
       "array([2.6105618 , 1.2826306 , 1.2696425 , ..., 0.05532897, 0.99223626,\n",
       "       0.12127715], dtype=float32)"
      ]
     },
     "metadata": {},
     "output_type": "display_data"
    },
    {
     "data": {
      "text/plain": [
       "array([ 2.552406  ,  0.29317614,  1.525908  , ..., -0.08609925,\n",
       "        0.98055536, -0.6723411 ], dtype=float32)"
      ]
     },
     "metadata": {},
     "output_type": "display_data"
    },
    {
     "data": {
      "text/plain": [
       "array([ 1.9050411 ,  0.03789985,  1.6799786 , ..., -0.17102335,\n",
       "        1.2290604 , -1.17312   ], dtype=float32)"
      ]
     },
     "metadata": {},
     "output_type": "display_data"
    },
    {
     "data": {
      "text/plain": [
       "array([ 2.1082182 ,  1.1860244 ,  1.479447  , ..., -0.0907946 ,\n",
       "        1.0515964 , -0.18405072], dtype=float32)"
      ]
     },
     "metadata": {},
     "output_type": "display_data"
    },
    {
     "data": {
      "text/plain": [
       "array([ 2.0197546 ,  1.9771969 ,  0.59277076, ...,  0.09568849,\n",
       "        0.9313459 , -0.31965327], dtype=float32)"
      ]
     },
     "metadata": {},
     "output_type": "display_data"
    },
    {
     "data": {
      "text/plain": [
       "array([ 2.2185845 ,  1.5456179 ,  0.43320012, ...,  0.09759481,\n",
       "        1.0695477 , -0.9102079 ], dtype=float32)"
      ]
     },
     "metadata": {},
     "output_type": "display_data"
    },
    {
     "data": {
      "text/plain": [
       "array([1.9328874 , 2.873641  , 0.92785835, ..., 0.3097735 , 0.5413167 ,\n",
       "       0.15664305], dtype=float32)"
      ]
     },
     "metadata": {},
     "output_type": "display_data"
    },
    {
     "data": {
      "text/plain": [
       "array([ 2.1482205 ,  0.15758555,  0.66363114, ..., -0.14831193,\n",
       "        0.35438117, -0.684064  ], dtype=float32)"
      ]
     },
     "metadata": {},
     "output_type": "display_data"
    },
    {
     "data": {
      "text/plain": [
       "array([ 2.0860088 , -0.1506055 ,  0.66404647, ..., -0.01335309,\n",
       "        0.59352356, -1.1281366 ], dtype=float32)"
      ]
     },
     "metadata": {},
     "output_type": "display_data"
    },
    {
     "data": {
      "text/plain": [
       "array([ 2.203881  ,  0.38787073,  0.8156545 , ..., -0.0234266 ,\n",
       "        0.45041507, -0.07046404], dtype=float32)"
      ]
     },
     "metadata": {},
     "output_type": "display_data"
    },
    {
     "data": {
      "text/plain": [
       "array([ 2.528711  ,  0.00417989,  0.80898607, ..., -0.24888381,\n",
       "        0.43777925, -0.8587526 ], dtype=float32)"
      ]
     },
     "metadata": {},
     "output_type": "display_data"
    },
    {
     "data": {
      "text/plain": [
       "array([ 2.3255706 , -0.19433232,  0.8359706 , ..., -0.22358315,\n",
       "        0.6093935 , -1.2493953 ], dtype=float32)"
      ]
     },
     "metadata": {},
     "output_type": "display_data"
    },
    {
     "data": {
      "text/plain": [
       "array([ 2.5204992 ,  0.19485939,  0.8341969 , ..., -0.16107455,\n",
       "        0.45906672, -0.30892155], dtype=float32)"
      ]
     },
     "metadata": {},
     "output_type": "display_data"
    },
    {
     "data": {
      "text/plain": [
       "array([ 2.7109427 ,  0.9364412 ,  0.12758696, ..., -0.22475077,\n",
       "        0.8152358 , -1.1148672 ], dtype=float32)"
      ]
     },
     "metadata": {},
     "output_type": "display_data"
    },
    {
     "data": {
      "text/plain": [
       "array([ 3.0800002 ,  1.1555785 , -0.21890436, ..., -0.16378678,\n",
       "        0.9814571 , -1.3322685 ], dtype=float32)"
      ]
     },
     "metadata": {},
     "output_type": "display_data"
    },
    {
     "data": {
      "text/plain": [
       "array([ 2.8169665 ,  1.4518311 ,  0.42718264, ..., -0.13486278,\n",
       "        0.52368385, -0.24309608], dtype=float32)"
      ]
     },
     "metadata": {},
     "output_type": "display_data"
    }
   ],
   "source": [
    "positions = [((224/2, 224*1.6/1.5), (224/2, 224*1.6/8), 'mm'), ((224/3, 224*1.6/10), (224/10, 224*1.6/1.25), 'la'), ((224/2, 224*1.6/6), (224/2, 224*1.6/2.5), 'mm')]\n",
    "\n",
    "name_text = '\\n'.join(name_text.split(' '))\n",
    "\n",
    "for color in (0, 255):\n",
    "    for font in os.listdir('fonts'):\n",
    "        for name_pos, author_pos, anchor in positions:\n",
    "\n",
    "            temp_cover = copy.copy(base_cover)\n",
    "            draw = ImageDraw.Draw(temp_cover)\n",
    "\n",
    "            name_font = ImageFont.truetype(f\"fonts/{font}\", 30)\n",
    "            author_font = ImageFont.truetype(f\"fonts/{font}\", 20)\n",
    "\n",
    "            draw.text(name_pos, name_text, fill=(color), font=name_font, anchor=anchor)\n",
    "            draw.text(author_pos, author_text, fill=(color), font=author_font, anchor=anchor)\n",
    "            \n",
    "            display(embed_picture(temp_cover.resize((224, 224))))"
   ]
  },
  {
   "cell_type": "code",
   "execution_count": 47,
   "metadata": {},
   "outputs": [
    {
     "data": {
      "text/plain": [
       "['DudkaRegular.ttf',\n",
       " 'KanitCyrillic.otf',\n",
       " 'LTRemark-Regular.otf',\n",
       " 'LTSuperior-Regular.otf',\n",
       " 'TschicholdBold.ttf']"
      ]
     },
     "execution_count": 47,
     "metadata": {},
     "output_type": "execute_result"
    }
   ],
   "source": [
    "os.listdir('fonts')"
   ]
  },
  {
   "cell_type": "code",
   "execution_count": null,
   "metadata": {},
   "outputs": [],
   "source": []
  }
 ],
 "metadata": {
  "kernelspec": {
   "display_name": "base",
   "language": "python",
   "name": "python3"
  },
  "language_info": {
   "codemirror_mode": {
    "name": "ipython",
    "version": 3
   },
   "file_extension": ".py",
   "mimetype": "text/x-python",
   "name": "python",
   "nbconvert_exporter": "python",
   "pygments_lexer": "ipython3",
   "version": "3.9.12"
  }
 },
 "nbformat": 4,
 "nbformat_minor": 2
}
